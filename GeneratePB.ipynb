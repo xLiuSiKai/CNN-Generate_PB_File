{
 "cells": [
  {
   "cell_type": "code",
   "execution_count": 2,
   "id": "3ee93932-3fee-44eb-86a4-5d939935cea6",
   "metadata": {},
   "outputs": [],
   "source": [
    "import os\n",
    "import tensorflow as tf"
   ]
  },
  {
   "cell_type": "code",
   "execution_count": 7,
   "id": "88b6388f-dbc4-4720-bad8-fbaef346fd5a",
   "metadata": {},
   "outputs": [
    {
     "name": "stdout",
     "output_type": "stream",
     "text": [
      "242\n",
      "715\n",
      "440\n"
     ]
    }
   ],
   "source": [
    "print(len(os.listdir('Data-All/Welding-Images-Original/CT')))\n",
    "print(len(os.listdir('Data-All/Welding-Images-Original/FP')))\n",
    "print(len(os.listdir('Data-All/Welding-Images-Original/PP')))"
   ]
  },
  {
   "cell_type": "code",
   "execution_count": 8,
   "id": "711d4390-999a-4f27-9818-4e288c720caa",
   "metadata": {},
   "outputs": [],
   "source": [
    "try:\n",
    "    os.mkdir('Data-All/Welding_Images_Classified')\n",
    "    os.mkdir('Data-All/Welding_Images_Classified/training')\n",
    "    os.mkdir('Data-All/Welding_Images_Classified/testing')\n",
    "    os.mkdir('Data-All/Welding_Images_Classified/training/CT')\n",
    "    os.mkdir('Data-All/Welding_Images_Classified/training/FP')\n",
    "    os.mkdir('Data-All/Welding_Images_Classified/training/PP')\n",
    "    os.mkdir('Data-All/Welding_Images_Classified/testing/CT')\n",
    "    os.mkdir('Data-All/Welding_Images_Classified/testing/FP')\n",
    "    os.mkdir('Data-All/Welding_Images_Classified/testing/PP')\n",
    "except OSError:\n",
    "    pass"
   ]
  },
  {
   "cell_type": "code",
   "execution_count": 9,
   "id": "dbf95380-4593-430b-bc2e-5abe3e283c9e",
   "metadata": {},
   "outputs": [],
   "source": [
    "import os\n",
    "import random\n",
    "import shutil\n",
    "from shutil import copyfile\n",
    "def split_data(SOURCE, TRAINING, TESTING, SPLIT_SIZE):\n",
    "    files = []\n",
    "    for filename in os.listdir(SOURCE):\n",
    "        file = SOURCE + filename\n",
    "        if os.path.getsize(file) > 0:\n",
    "            files.append(filename)\n",
    "        else:\n",
    "            print(filename + \" is zero length, so ignoring.\")\n",
    "    training_length = int(len(files) * SPLIT_SIZE)\n",
    "    testing_length = int(len(files) - training_length)\n",
    "    shuffled_set = random.sample(files, len(files))\n",
    "    training_set = shuffled_set[0:training_length]\n",
    "    testing_set = shuffled_set[-testing_length:]\n",
    "    \n",
    "    for filename in training_set:\n",
    "        this_file = SOURCE + filename\n",
    "        destination = TRAINING + filename\n",
    "        copyfile(this_file, destination)\n",
    "    \n",
    "    for filename in testing_set:\n",
    "        this_file = SOURCE + filename\n",
    "        destination = TESTING + filename\n",
    "        copyfile(this_file, destination)\n",
    "        \n",
    "CT_SOURCE_DIR = \"Data-All/Welding-Images-Original/CT/\"\n",
    "TRAINING_CT_DIR = \"Data-All/Welding_Images_Classified/training/CT/\"\n",
    "TESTING_CT_DIR = \"Data-All/Welding_Images_Classified/testing/CT/\"\n",
    "FP_SOURCE_DIR = \"Data-All/Welding-Images-Original/FP/\"\n",
    "TRAINING_FP_DIR = \"Data-All/Welding_Images_Classified/training/FP/\"\n",
    "TESTING_FP_DIR = \"Data-All/Welding_Images_Classified/testing/FP/\"\n",
    "PP_SOURCE_DIR = \"Data-All/Welding-Images-Original/PP/\"\n",
    "TRAINING_PP_DIR = \"Data-All/Welding_Images_Classified/training/PP/\"\n",
    "TESTING_PP_DIR = \"Data-All/Welding_Images_Classified/testing/PP/\"\n",
    "\n",
    "split_size = .9\n",
    "split_data(CT_SOURCE_DIR, TRAINING_CT_DIR, TESTING_CT_DIR, split_size)\n",
    "split_data(FP_SOURCE_DIR, TRAINING_FP_DIR, TESTING_FP_DIR, split_size)\n",
    "split_data(PP_SOURCE_DIR, TRAINING_PP_DIR, TESTING_PP_DIR, split_size)"
   ]
  },
  {
   "cell_type": "code",
   "execution_count": 10,
   "id": "d2de5d0e-d050-4435-a86b-9682cb2bc76d",
   "metadata": {},
   "outputs": [
    {
     "name": "stdout",
     "output_type": "stream",
     "text": [
      "217\n",
      "25\n",
      "643\n",
      "72\n",
      "396\n",
      "44\n"
     ]
    }
   ],
   "source": [
    "print(len(os.listdir('Data-All/Welding_Images_Classified/training/CT/')))\n",
    "print(len(os.listdir('Data-All/Welding_Images_Classified/testing/CT/')))\n",
    "print(len(os.listdir('Data-All/Welding_Images_Classified/training/FP/')))\n",
    "print(len(os.listdir('Data-All/Welding_Images_Classified/testing/FP/')))\n",
    "print(len(os.listdir('Data-All/Welding_Images_Classified/training/PP/')))\n",
    "print(len(os.listdir('Data-All/Welding_Images_Classified/testing/PP/')))"
   ]
  },
  {
   "cell_type": "code",
   "execution_count": 11,
   "id": "169507cf-8b7a-47b8-8ef1-ec4b52ff13a5",
   "metadata": {},
   "outputs": [
    {
     "name": "stdout",
     "output_type": "stream",
     "text": [
      "Found 1256 images belonging to 3 classes.\n",
      "Found 141 images belonging to 3 classes.\n"
     ]
    }
   ],
   "source": [
    "# 0-CT,1-FP,2-PP按照文件夹命名字母顺序匹配\n",
    "from tensorflow.keras.preprocessing.image import ImageDataGenerator\n",
    "TRAINING_DIR = \"Data-All/Welding_Images_Classified/training/\"\n",
    "train_datagen = ImageDataGenerator(rescale=1.0/255.)\n",
    "train_generator = train_datagen.flow_from_directory(TRAINING_DIR,\n",
    "                                                    batch_size=20,\n",
    "                                                    class_mode='categorical',\n",
    "                                                    target_size=(150, 150),\n",
    "                                                    color_mode=\"grayscale\")\n",
    "VALIDATION_DIR = \"Data-All/Welding_Images_Classified/testing/\"\n",
    "validation_datagen = ImageDataGenerator(rescale=1.0/255.)\n",
    "validation_generator = validation_datagen.flow_from_directory(VALIDATION_DIR,\n",
    "                                                              batch_size=20,\n",
    "                                                              class_mode='categorical',\n",
    "                                                              target_size=(150,150),\n",
    "                                                              color_mode=\"grayscale\")"
   ]
  },
  {
   "cell_type": "code",
   "execution_count": 12,
   "id": "1e45906e-8556-4bf9-abcb-2f1670202206",
   "metadata": {},
   "outputs": [
    {
     "name": "stdout",
     "output_type": "stream",
     "text": [
      "Model: \"sequential\"\n",
      "_________________________________________________________________\n",
      " Layer (type)                Output Shape              Param #   \n",
      "=================================================================\n",
      " conv2d (Conv2D)             (None, 148, 148, 16)      160       \n",
      "                                                                 \n",
      " max_pooling2d (MaxPooling2D  (None, 74, 74, 16)       0         \n",
      " )                                                               \n",
      "                                                                 \n",
      " conv2d_1 (Conv2D)           (None, 72, 72, 32)        4640      \n",
      "                                                                 \n",
      " max_pooling2d_1 (MaxPooling  (None, 36, 36, 32)       0         \n",
      " 2D)                                                             \n",
      "                                                                 \n",
      " conv2d_2 (Conv2D)           (None, 34, 34, 64)        18496     \n",
      "                                                                 \n",
      " max_pooling2d_2 (MaxPooling  (None, 17, 17, 64)       0         \n",
      " 2D)                                                             \n",
      "                                                                 \n",
      " flatten (Flatten)           (None, 18496)             0         \n",
      "                                                                 \n",
      " dense (Dense)               (None, 512)               9470464   \n",
      "                                                                 \n",
      " dense_1 (Dense)             (None, 3)                 1539      \n",
      "                                                                 \n",
      "=================================================================\n",
      "Total params: 9,495,299\n",
      "Trainable params: 9,495,299\n",
      "Non-trainable params: 0\n",
      "_________________________________________________________________\n",
      "Epoch 1/10\n",
      "63/63 [==============================] - 11s 166ms/step - loss: 0.3352 - acc: 0.8710 - val_loss: 0.2194 - val_acc: 0.9220\n",
      "Epoch 2/10\n",
      "63/63 [==============================] - 7s 104ms/step - loss: 0.1733 - acc: 0.9307 - val_loss: 0.1581 - val_acc: 0.9433\n",
      "Epoch 3/10\n",
      "63/63 [==============================] - 7s 104ms/step - loss: 0.1256 - acc: 0.9506 - val_loss: 0.1325 - val_acc: 0.9362\n",
      "Epoch 4/10\n",
      "63/63 [==============================] - 8s 134ms/step - loss: 0.1154 - acc: 0.9602 - val_loss: 0.1677 - val_acc: 0.9220\n",
      "Epoch 5/10\n",
      "63/63 [==============================] - 9s 142ms/step - loss: 0.1045 - acc: 0.9642 - val_loss: 0.1701 - val_acc: 0.9291\n",
      "Epoch 6/10\n",
      "63/63 [==============================] - 9s 148ms/step - loss: 0.0702 - acc: 0.9761 - val_loss: 0.1105 - val_acc: 0.9574\n",
      "Epoch 7/10\n",
      "63/63 [==============================] - 9s 144ms/step - loss: 0.0519 - acc: 0.9809 - val_loss: 0.0728 - val_acc: 0.9787\n",
      "Epoch 8/10\n",
      "63/63 [==============================] - 9s 149ms/step - loss: 0.0376 - acc: 0.9849 - val_loss: 0.0842 - val_acc: 0.9716\n",
      "Epoch 9/10\n",
      "63/63 [==============================] - 10s 155ms/step - loss: 0.0329 - acc: 0.9912 - val_loss: 0.1434 - val_acc: 0.9574\n",
      "Epoch 10/10\n",
      "63/63 [==============================] - 10s 160ms/step - loss: 0.0243 - acc: 0.9881 - val_loss: 0.1418 - val_acc: 0.9716\n",
      "8/8 [==============================] - 0s 38ms/step - loss: 0.1418 - acc: 0.9716\n"
     ]
    },
    {
     "data": {
      "text/plain": [
       "[0.14179132878780365, 0.9716312289237976]"
      ]
     },
     "execution_count": 12,
     "metadata": {},
     "output_type": "execute_result"
    }
   ],
   "source": [
    "model = tf.keras.models.Sequential([\n",
    "tf.keras.layers.Conv2D(16, (3,3), activation='relu', input_shape=(150, 150,1)),\n",
    "tf.keras.layers.MaxPooling2D(2,2),\n",
    "tf.keras.layers.Conv2D(32, (3,3), activation='relu'),\n",
    "tf.keras.layers.MaxPooling2D(2,2),\n",
    "tf.keras.layers.Conv2D(64, (3,3), activation='relu'),\n",
    "tf.keras.layers.MaxPooling2D(2,2),\n",
    "tf.keras.layers.Flatten(),\n",
    "tf.keras.layers.Dense(512, activation='relu'),\n",
    "tf.keras.layers.Dense(3, activation='softmax')\n",
    "])\n",
    "model.summary()\n",
    "model.compile(optimizer='adam', loss='categorical_crossentropy',metrics=['acc'])\n",
    "history = model.fit(train_generator, epochs=10, verbose=1,validation_data=validation_generator)\n",
    "model.evaluate(validation_generator)"
   ]
  },
  {
   "cell_type": "code",
   "execution_count": 13,
   "id": "5919c95d-e428-4eb0-8a5f-d93d646d94e6",
   "metadata": {},
   "outputs": [
    {
     "data": {
      "image/png": "[encoded data removed]",
      "text/plain": [
       "<Figure size 432x288 with 1 Axes>"
      ]
     },
     "metadata": {
      "needs_background": "light"
     },
     "output_type": "display_data"
    },
    {
     "data": {
      "image/png": "[encoded data removed]",
      "text/plain": [
       "<Figure size 432x288 with 1 Axes>"
      ]
     },
     "metadata": {
      "needs_background": "light"
     },
     "output_type": "display_data"
    }
   ],
   "source": [
    "import matplotlib.pyplot as plt\n",
    "\n",
    "def plot_graphs(history, string):\n",
    "    plt.plot(history.history[string])\n",
    "    plt.plot(history.history['val_'+string])\n",
    "    plt.xlabel(\"Epochs\")\n",
    "    plt.ylabel(string)\n",
    "    plt.legend([string, 'val_'+string])\n",
    "    plt.show()\n",
    "    \n",
    "plot_graphs(history, \"acc\")\n",
    "plot_graphs(history, \"loss\")"
   ]
  },
  {
   "cell_type": "code",
   "execution_count": 14,
   "id": "395818c4-02f5-4158-a829-4723a847bc73",
   "metadata": {},
   "outputs": [
    {
     "name": "stdout",
     "output_type": "stream",
     "text": [
      "--------------------------------------------------\n",
      "Frozen model layers:\n",
      "x\n",
      "sequential/conv2d/Conv2D/ReadVariableOp/resource\n",
      "sequential/conv2d/Conv2D/ReadVariableOp\n",
      "sequential/conv2d/Conv2D\n",
      "sequential/conv2d/BiasAdd/ReadVariableOp/resource\n",
      "sequential/conv2d/BiasAdd/ReadVariableOp\n",
      "sequential/conv2d/BiasAdd\n",
      "sequential/conv2d/Relu\n",
      "sequential/max_pooling2d/MaxPool\n",
      "sequential/conv2d_1/Conv2D/ReadVariableOp/resource\n",
      "sequential/conv2d_1/Conv2D/ReadVariableOp\n",
      "sequential/conv2d_1/Conv2D\n",
      "sequential/conv2d_1/BiasAdd/ReadVariableOp/resource\n",
      "sequential/conv2d_1/BiasAdd/ReadVariableOp\n",
      "sequential/conv2d_1/BiasAdd\n",
      "sequential/conv2d_1/Relu\n",
      "sequential/max_pooling2d_1/MaxPool\n",
      "sequential/conv2d_2/Conv2D/ReadVariableOp/resource\n",
      "sequential/conv2d_2/Conv2D/ReadVariableOp\n",
      "sequential/conv2d_2/Conv2D\n",
      "sequential/conv2d_2/BiasAdd/ReadVariableOp/resource\n",
      "sequential/conv2d_2/BiasAdd/ReadVariableOp\n",
      "sequential/conv2d_2/BiasAdd\n",
      "sequential/conv2d_2/Relu\n",
      "sequential/max_pooling2d_2/MaxPool\n",
      "sequential/flatten/Const\n",
      "sequential/flatten/Reshape\n",
      "sequential/dense/MatMul/ReadVariableOp/resource\n",
      "sequential/dense/MatMul/ReadVariableOp\n",
      "sequential/dense/MatMul\n",
      "sequential/dense/BiasAdd/ReadVariableOp/resource\n",
      "sequential/dense/BiasAdd/ReadVariableOp\n",
      "sequential/dense/BiasAdd\n",
      "sequential/dense/Relu\n",
      "sequential/dense_1/MatMul/ReadVariableOp/resource\n",
      "sequential/dense_1/MatMul/ReadVariableOp\n",
      "sequential/dense_1/MatMul\n",
      "sequential/dense_1/BiasAdd/ReadVariableOp/resource\n",
      "sequential/dense_1/BiasAdd/ReadVariableOp\n",
      "sequential/dense_1/BiasAdd\n",
      "sequential/dense_1/Softmax\n",
      "NoOp\n",
      "Identity\n",
      "--------------------------------------------------\n",
      "Frozen model inputs:\n",
      "[<tf.Tensor 'x:0' shape=(None, 150, 150, 1) dtype=float32>]\n",
      "Frozen model outputs: \n",
      "[<tf.Tensor 'Identity:0' shape=(None, 3) dtype=float32>]\n"
     ]
    },
    {
     "data": {
      "text/plain": [
       "'Data-All/Frozen_models/frozen_graph.pb'"
      ]
     },
     "execution_count": 14,
     "metadata": {},
     "output_type": "execute_result"
    }
   ],
   "source": [
    "from tensorflow.python.framework.convert_to_constants import convert_variables_to_constants_v2\n",
    "\n",
    "full_model = tf.function(lambda x: model(x))\n",
    "full_model = full_model.get_concrete_function(tf.TensorSpec(model.inputs[0].shape, model.inputs[0].dtype))\n",
    "\n",
    "# Get frozen ConcreteFunction\n",
    "frozen_func = convert_variables_to_constants_v2(full_model)\n",
    "frozen_func.graph.as_graph_def()\n",
    "layers = [op.name for op in frozen_func.graph.get_operations()]\n",
    "print(\"-\" * 50)\n",
    "print(\"Frozen model layers:\")\n",
    "for layer in layers:\n",
    "    print(layer)\n",
    "    \n",
    "print(\"-\" * 50)\n",
    "print(\"Frozen model inputs:\")\n",
    "print(frozen_func.inputs)\n",
    "print(\"Frozen model outputs: \")\n",
    "print(frozen_func.outputs)\n",
    "\n",
    "# Save frozen graph from frozen ConcreteFunction to hard drive\n",
    "tf.io.write_graph(graph_or_graph_def=frozen_func.graph, \n",
    "                  logdir=\"Data-All/Frozen_models/\", \n",
    "                  name=\"frozen_graph.pb\", \n",
    "                  as_text=False)"
   ]
  }
 ],
 "metadata": {
  "kernelspec": {
   "display_name": "Python 3 (ipykernel)",
   "language": "python",
   "name": "python3"
  },
  "language_info": {
   "codemirror_mode": {
    "name": "ipython",
    "version": 3
   },
   "file_extension": ".py",
   "mimetype": "text/x-python",
   "name": "python",
   "nbconvert_exporter": "python",
   "pygments_lexer": "ipython3",
   "version": "3.9.10"
  }
 },
 "nbformat": 4,
 "nbformat_minor": 5
}
